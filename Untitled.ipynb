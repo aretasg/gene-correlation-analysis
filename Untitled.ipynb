{
 "cells": [
  {
   "cell_type": "code",
   "execution_count": null,
   "metadata": {},
   "outputs": [],
   "source": [
    "import os\n",
    "import gzip\n",
    "import pandas as pd\n",
    "\n",
    "# reading gene list\n",
    "engs_gene_df = pd.read_csv('matched-gene-list.tsv', sep='\\t', usecols=[0, 1])\n",
    "engs_gene_df.columns = ['gene', 'id']\n",
    "\n",
    "# reading TCGA files\n",
    "df = pd.DataFrame()\n",
    "source_filename = 'gdc_download_20200211_235941.906086'\n",
    "for root, dirs, files in os.walk(source_filename, topdown=True):\n",
    "        \n",
    "    gz_file = [i for i in files if i.endswith('.gz')]\n",
    "    if not gz_file:\n",
    "        # print(root, dirs, files)\n",
    "        continue\n",
    "    else:\n",
    "        gz_file = gz_file[0]\n",
    "        \n",
    "    for gz in [i for i in files if i.endswith('.gz')]:    \n",
    "        with gzip.open(os.path.join(root, gz)) as f:\n",
    "\n",
    "            temp_df = pd.read_csv(f, sep='\\t', names=['id_init', 'count'])\n",
    "            temp_df['id'] = temp_df['id_init'].apply(lambda x: x.split('.')[0])\n",
    "            temp_df['file_id'] = os.path.split(root)[-1]\n",
    "            temp_df = temp_df.merge(engs_gene_df, how='left', on='id')\n",
    "            if len(temp_df) == 1:\n",
    "                continue\n",
    "\n",
    "            df = pd.concat([df, temp_df], axis=0)\n",
    "    # break\n",
    "    # print(temp_df.sample())"
   ]
  },
  {
   "cell_type": "code",
   "execution_count": null,
   "metadata": {},
   "outputs": [],
   "source": [
    "# including project information\n",
    "sample_df = pd.read_csv('gdc_sample_sheet.2020-02-12.tsv', sep='\\t')\n",
    "sample_df.columns = [i.lower().replace(' ', '_') for i in list(sample_df)]\n",
    "df = df.merge(sample_df[['project_id', 'case_id', 'sample_id', 'sample_type', 'file_id']], how='inner', on='file_id')"
   ]
  },
  {
   "cell_type": "code",
   "execution_count": null,
   "metadata": {},
   "outputs": [],
   "source": [
    "# saving processed data to save time not reading everything from scratch\n",
    "df.to_csv('proccessed_data.csv')\n",
    "import pandas as pd\n",
    "df = pd.read_csv('proccessed_data_all_genes.csv')\n",
    "df.head()"
   ]
  },
  {
   "cell_type": "code",
   "execution_count": null,
   "metadata": {},
   "outputs": [],
   "source": [
    "# cluster map of expression levels for Primary Tumor sample type\n",
    "sample_type = 'Primary Tumor' # change this to visualize different sample types\n",
    "cancer_df = df.loc[df['sample_type'] == sample_type]\n",
    "foo = cancer_df.groupby(['project_id', 'gene'], as_index=False)['count'].median()\n",
    "foo['count'] = foo['count'].apply(lambda x: round(pd.np.log(x), 2))\n",
    "\n",
    "result = foo.pivot(index='project_id', columns='gene', values='count')\n",
    "sns.clustermap(result, annot=True, fmt=\"g\", cmap='viridis', center=6, metric=\"correlation\")\n",
    "plt.show()"
   ]
  },
  {
   "cell_type": "code",
   "execution_count": null,
   "metadata": {},
   "outputs": [],
   "source": [
    "from scipy.stats import pearsonr, spearmanr\n",
    "\n",
    "# show just genes correlations with LRRK2 in a heatmap\n",
    "final_df = pd.DataFrame()\n",
    "for project in set(df['project_id']):\n",
    "    temp_df = df1.loc[df1['project_id'] == project]\n",
    "    \n",
    "    if len(temp_df['LRRK2']) <= 1:\n",
    "        print('Project', project, 'does not have enough samples.')\n",
    "        continue\n",
    "        \n",
    "    # show correlation score, p value and scatter plot\n",
    "#     print(project, 'number of measurements', len(temp_df['LRRK2']))\n",
    "#     for i in ['BRCA1', 'BRCA2', 'PRMT5', 'RAD51', 'WEE1']:\n",
    "#         print(i, pearsonr(temp_df['LRRK2'], temp_df[i]))\n",
    "#         # temp_df.plot(x='LRRK2', y=i, style='o')\n",
    "#     print('-')\n",
    "        \n",
    "    corr_df = temp_df.corr(method='pearson')\n",
    "    corr_df['project_id'] = project\n",
    "    corr_df.reset_index(inplace=True)\n",
    "    corr_df = corr_df[['LRRK2', 'project_id', 'gene']]\n",
    "    final_df = pd.concat([final_df, corr_df])\n",
    "\n",
    "# creates a heatmap\n",
    "final_df['LRRK2'] = final_df['LRRK2'].apply(lambda x: round(x, 2))\n",
    "piv_df = final_df.pivot(index='project_id', columns='gene', values='LRRK2')\n",
    "piv_df.drop(['LRRK2'], axis=1, inplace=True)\n",
    "sns.heatmap(piv_df, vmin=-1, vmax=1, annot=True, fmt=\"g\", cmap='viridis')\n",
    "plt.show()"
   ]
  },
  {
   "cell_type": "code",
   "execution_count": null,
   "metadata": {},
   "outputs": [],
   "source": [
    "# cluster map for corrolation of genes with LRRK2 for every project in Primary Tumor sample type\n",
    "piv_df.dropna(axis=0, inplace=True)\n",
    "sns.clustermap(piv_df, vmin=-1, vmax=1, annot=True, fmt=\"g\", cmap='viridis')\n",
    "plt.show()"
   ]
  }
 ],
 "metadata": {
  "kernelspec": {
   "display_name": "Python 3",
   "language": "python",
   "name": "python3"
  },
  "language_info": {
   "codemirror_mode": {
    "name": "ipython",
    "version": 3
   },
   "file_extension": ".py",
   "mimetype": "text/x-python",
   "name": "python",
   "nbconvert_exporter": "python",
   "pygments_lexer": "ipython3",
   "version": "3.8.1"
  }
 },
 "nbformat": 4,
 "nbformat_minor": 4
}
